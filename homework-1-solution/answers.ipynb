{
 "cells": [
  {
   "cell_type": "markdown",
   "metadata": {},
   "source": [
    "# Answers"
   ]
  },
  {
   "cell_type": "code",
   "execution_count": 1,
   "metadata": {},
   "outputs": [],
   "source": [
    "import functions # this is the functions module you are writing\n",
    "import numpy as np\n",
    "import matplotlib.pyplot as plt"
   ]
  },
  {
   "cell_type": "markdown",
   "metadata": {},
   "source": [
    "## Warning\n",
    "\n",
    "Jupyter notebooks can be tricky with `git`, especially when multiple people are working on them.  Most of the work in this assignment is in completing `functions.py`, but you may want to be careful to have this notebook backed up before doing any merges so its contents don't get lost."
   ]
  },
  {
   "cell_type": "markdown",
   "metadata": {},
   "source": [
    "## Group Information\n",
    "\n",
    "Briefly state your names, and who did what in the assignment. You can replace the following information:\n",
    "\n",
    "**Person 1** - implemented `Compose`... etc. implemented Taylor series, fixed bugs, etc.\n",
    "\n",
    "**Person 2** - implemented `Scale`..., implemented Newton's method, fixed bugs, etc.\n",
    "\n",
    "**Person 3** - implemented `Constant`... fixed bugs\n",
    "\n",
    "etc."
   ]
  },
  {
   "cell_type": "markdown",
   "metadata": {},
   "source": [
    "## Demo\n",
    "\n",
    "Note that the way that `__call__` evaluates on strings in `AbstractFunction` lets you do the following:"
   ]
  },
  {
   "cell_type": "code",
   "execution_count": 2,
   "metadata": {},
   "outputs": [
    {
     "name": "stdout",
     "output_type": "stream",
     "text": [
      "2({0})^2 + {0} + 1\n",
      "4\n",
      "2(x)^2 + x + 1\n"
     ]
    }
   ],
   "source": [
    "from functions import Polynomial\n",
    "p = Polynomial(2,1,1) # 2 x^2 + x + 1\n",
    "print(p)      # print Polynomail\n",
    "print(p(1))   # call evaluates polynomial at 1\n",
    "print(p('x')) # call formats print string with 'x'"
   ]
  },
  {
   "cell_type": "markdown",
   "metadata": {},
   "source": [
    "you can do the same with"
   ]
  },
  {
   "cell_type": "code",
   "execution_count": 4,
   "metadata": {},
   "outputs": [
    {
     "data": {
      "text/plain": [
       "'2(y)^2 + y + 1'"
      ]
     },
     "execution_count": 4,
     "metadata": {},
     "output_type": "execute_result"
    }
   ],
   "source": [
    "str(p).format('y') # use 'y' instead of 'x'"
   ]
  },
  {
   "cell_type": "markdown",
   "metadata": {},
   "source": [
    "# Problem 0\n",
    "\n",
    "## Part A\n",
    "\n",
    "You might want to write something under these headers if you want to explain anything"
   ]
  },
  {
   "attachments": {},
   "cell_type": "markdown",
   "metadata": {},
   "source": [
    "I like those problems and they feel very challenging, and I like feel if one try to implement simplify function one will inevitably slide towards re-writing the core part for SymPy... It'll be more interesting if the professor can shed some light on how to systematically implement 'simplify', but I am not taking the course anyway LOL"
   ]
  },
  {
   "cell_type": "markdown",
   "metadata": {},
   "source": [
    "## Part B"
   ]
  },
  {
   "cell_type": "code",
   "execution_count": null,
   "metadata": {},
   "outputs": [],
   "source": [
    "## Your code here\n",
    "import functions\n",
    "p = functions.Scale(2)\n",
    "p.plot(color='red')\n",
    "p = functions.Constant(1)\n",
    "p.plot(color='red')"
   ]
  },
  {
   "cell_type": "markdown",
   "metadata": {},
   "source": [
    "## Part C"
   ]
  },
  {
   "cell_type": "code",
   "execution_count": null,
   "metadata": {},
   "outputs": [],
   "source": [
    "## Your code here\n",
    "import functions\n",
    "import numpy as np\n",
    "\n",
    "p = functions.Product(functions.Polynomial(1,0,0),functions.Polynomial(1,0,0)).plot(color='red')\n",
    "c = functions.Compose(functions.Polynomial(1,0,0),functions.Polynomial(1,0,0)).plot(linestyle='--',color='blue')\n"
   ]
  },
  {
   "cell_type": "markdown",
   "metadata": {},
   "source": [
    "## Part D"
   ]
  },
  {
   "cell_type": "code",
   "execution_count": null,
   "metadata": {},
   "outputs": [],
   "source": [
    "import functions\n",
    "import numpy as np\n",
    "p = functions.Power(-1).plot(vals = np.arange(-5,-0.5,0.01), color = 'blue')\n",
    "p = functions.Power(-1).plot(vals = np.arange(0.5,5,0.01), color = 'blue')\n",
    "l = functions.Log().plot(vals = np.arange(0.05,5,0.01))\n",
    "s = functions.Sin().plot(vals = np.arange(-5,5,0.01))\n",
    "c = functions.Cos().plot(vals = np.arange(-5,5,0.01))\n"
   ]
  },
  {
   "cell_type": "markdown",
   "metadata": {},
   "source": [
    "## Part E"
   ]
  },
  {
   "cell_type": "code",
   "execution_count": null,
   "metadata": {},
   "outputs": [],
   "source": [
    "## Your code here\n",
    "import functions\n",
    "f = functions.Symbolic('f')\n",
    "g = functions.Symbolic('g')\n",
    "d = f * g\n",
    "p = d\n",
    "p.derivative().__str__()"
   ]
  },
  {
   "cell_type": "markdown",
   "metadata": {},
   "source": [
    "## Part F"
   ]
  },
  {
   "cell_type": "markdown",
   "metadata": {},
   "source": [
    "1. What is the derivative of `5x^2 + 3x + 1`? "
   ]
  },
  {
   "cell_type": "code",
   "execution_count": 2,
   "metadata": {},
   "outputs": [
    {
     "data": {
      "text/plain": [
       "'((((0*Power(x,2))+(5*(2*Power(x,1))))+((0*Power(x,1))+(3*(1*Power(x,0)))))+0)'"
      ]
     },
     "execution_count": 2,
     "metadata": {},
     "output_type": "execute_result"
    }
   ],
   "source": [
    "from functions import *\n",
    "f = ConstSymbolic(5)*PowerSymbolic(2) + ConstSymbolic(3)*PowerSymbolic(1)+ConstSymbolic(1)\n",
    "f.derivative()('x')\n"
   ]
  },
  {
   "attachments": {},
   "cell_type": "markdown",
   "metadata": {},
   "source": [
    "Well, the expression seems right, though many unnecessary brackets and no simplification."
   ]
  },
  {
   "cell_type": "markdown",
   "metadata": {},
   "source": [
    "2. Derive a rule for the derivative of $f = g/h$ using symbolic functions.  Does this reduce to quotient rule?"
   ]
  },
  {
   "cell_type": "code",
   "execution_count": 4,
   "metadata": {},
   "outputs": [
    {
     "data": {
      "text/plain": [
       "\"((g'(x)*Power(h(x),-1))+(g(x)*((-1*Power(h(x),-2))*h'(x))))\""
      ]
     },
     "execution_count": 4,
     "metadata": {},
     "output_type": "execute_result"
    }
   ],
   "source": [
    "from functions import *\n",
    "f = Symbolic(\"g\") * PowerSymbolic(-1)(Symbolic(\"h\"))\n",
    "f.derivative()(\"x\")"
   ]
  },
  {
   "cell_type": "markdown",
   "metadata": {},
   "source": [
    "3. What is the derivative of $\\sin(x)^2$?"
   ]
  },
  {
   "cell_type": "code",
   "execution_count": 5,
   "metadata": {},
   "outputs": [
    {
     "data": {
      "text/plain": [
       "'((2*Power(sin(x),1))*cos(x))'"
      ]
     },
     "execution_count": 5,
     "metadata": {},
     "output_type": "execute_result"
    }
   ],
   "source": [
    "from functions import *\n",
    "f = PowerSymbolic(2)(SinSymbolic())\n",
    "f.derivative()(\"x\")"
   ]
  },
  {
   "cell_type": "markdown",
   "metadata": {},
   "source": [
    "4. What is the second derivative of $e^{5x}$?"
   ]
  },
  {
   "cell_type": "code",
   "execution_count": 7,
   "metadata": {},
   "outputs": [
    {
     "data": {
      "text/plain": [
       "'(exp(5*(x))*5)'"
      ]
     },
     "execution_count": 7,
     "metadata": {},
     "output_type": "execute_result"
    }
   ],
   "source": [
    "from functions import *\n",
    "f = ExpSymbolic()(ScaleSymbolic(5))\n",
    "f.derivative()(\"x\")"
   ]
  },
  {
   "cell_type": "markdown",
   "metadata": {},
   "source": [
    "# Problem 1\n",
    "\n",
    "## Part A"
   ]
  },
  {
   "cell_type": "code",
   "execution_count": null,
   "metadata": {},
   "outputs": [],
   "source": [
    "## Your code here\n"
   ]
  },
  {
   "cell_type": "markdown",
   "metadata": {},
   "source": [
    "## Part B"
   ]
  },
  {
   "cell_type": "code",
   "execution_count": null,
   "metadata": {},
   "outputs": [],
   "source": [
    "## Your code here\n"
   ]
  },
  {
   "cell_type": "markdown",
   "metadata": {},
   "source": [
    "# Problem 2\n",
    "\n",
    "## Part A\n",
    "\n",
    "You don't need any code in this notebook - it goes in `functions.py`"
   ]
  },
  {
   "cell_type": "markdown",
   "metadata": {},
   "source": [
    "## Part B"
   ]
  },
  {
   "cell_type": "code",
   "execution_count": null,
   "metadata": {},
   "outputs": [],
   "source": [
    "## Your code here\n"
   ]
  },
  {
   "cell_type": "markdown",
   "metadata": {},
   "source": [
    "# Feedback"
   ]
  }
 ],
 "metadata": {
  "kernelspec": {
   "display_name": "pycourse2",
   "language": "python",
   "name": "python3"
  },
  "language_info": {
   "codemirror_mode": {
    "name": "ipython",
    "version": 3
   },
   "file_extension": ".py",
   "mimetype": "text/x-python",
   "name": "python",
   "nbconvert_exporter": "python",
   "pygments_lexer": "ipython3",
   "version": "3.8.17"
  },
  "vscode": {
   "interpreter": {
    "hash": "75cacc115f4db64f0a1103783240c146c1448abd56ed3931df5f742e746886b4"
   }
  }
 },
 "nbformat": 4,
 "nbformat_minor": 4
}
